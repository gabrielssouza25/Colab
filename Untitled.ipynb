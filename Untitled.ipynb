{
  "nbformat": 4,
  "nbformat_minor": 0,
  "metadata": {
    "colab": {
      "name": "Untitled",
      "provenance": [],
      "private_outputs": true,
      "collapsed_sections": [],
      "authorship_tag": "ABX9TyPewm7I8jxC1vwzMZbkzhlP",
      "include_colab_link": true
    },
    "kernelspec": {
      "name": "python3",
      "display_name": "Python 3"
    },
    "accelerator": "GPU"
  },
  "cells": [
    {
      "cell_type": "markdown",
      "metadata": {
        "id": "view-in-github",
        "colab_type": "text"
      },
      "source": [
        "<a href=\"https://colab.research.google.com/github/gabrielssouza25/Colab/blob/master/Untitled.ipynb\" target=\"_parent\"><img src=\"https://colab.research.google.com/assets/colab-badge.svg\" alt=\"Open In Colab\"/></a>"
      ]
    },
    {
      "cell_type": "code",
      "metadata": {
        "id": "83dVX8jmapFt",
        "colab_type": "code",
        "colab": {}
      },
      "source": [
        "# EXEMPLO DE DE DECLARAÇÃO DE VARIÁVEIS"
      ],
      "execution_count": null,
      "outputs": []
    },
    {
      "cell_type": "code",
      "metadata": {
        "id": "FhIaEgDlcUPc",
        "colab_type": "code",
        "colab": {}
      },
      "source": [
        "print (10)\n",
        "print (10 + 10)\n",
        "print(10, '\\t', 10)\n",
        "type (10)\n",
        "type (10)"
      ],
      "execution_count": null,
      "outputs": []
    },
    {
      "cell_type": "code",
      "metadata": {
        "id": "ZytKr-mwfBLX",
        "colab_type": "code",
        "colab": {}
      },
      "source": [
        "# STRING (TEXTO)"
      ],
      "execution_count": null,
      "outputs": []
    },
    {
      "cell_type": "code",
      "metadata": {
        "id": "N7yeDfJjgIQe",
        "colab_type": "code",
        "colab": {}
      },
      "source": [
        "nome = \"LEONARDO SANTOS DE SOUZA\"\n",
        "print(\"GABRIEL SANTOS DE SOUZA\" + '\\n' + nome)"
      ],
      "execution_count": null,
      "outputs": []
    },
    {
      "cell_type": "code",
      "metadata": {
        "id": "5mQZr8P4gazW",
        "colab_type": "code",
        "colab": {}
      },
      "source": [
        "nome = 'Gabriel Santos de Souza'\n",
        "idade = 25\n",
        "complemento = 'anos'\n",
        "\n",
        "print(nome, 'tem', idade,complemento)"
      ],
      "execution_count": null,
      "outputs": []
    },
    {
      "cell_type": "code",
      "metadata": {
        "id": "g09-4OoRjiE2",
        "colab_type": "code",
        "colab": {}
      },
      "source": [
        "print(idade, complemento)"
      ],
      "execution_count": null,
      "outputs": []
    }
  ]
}