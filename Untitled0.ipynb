{
  "nbformat": 4,
  "nbformat_minor": 0,
  "metadata": {
    "colab": {
      "name": "Untitled0.ipynb",
      "provenance": [],
      "collapsed_sections": [],
      "authorship_tag": "ABX9TyMw4dLz4gKZahYmoEXlYvHM",
      "include_colab_link": true
    },
    "kernelspec": {
      "name": "python3",
      "display_name": "Python 3"
    }
  },
  "cells": [
    {
      "cell_type": "markdown",
      "metadata": {
        "id": "view-in-github",
        "colab_type": "text"
      },
      "source": [
        "<a href=\"https://colab.research.google.com/github/gabrielssouza25/Colab/blob/master/Untitled0.ipynb\" target=\"_parent\"><img src=\"https://colab.research.google.com/assets/colab-badge.svg\" alt=\"Open In Colab\"/></a>"
      ]
    },
    {
      "cell_type": "code",
      "metadata": {
        "id": "Bo2KR532h7KY",
        "colab_type": "code",
        "colab": {}
      },
      "source": [
        "# A04 - ESTRUTURAS DE DECISÃO E REPETIÇÃO\n",
        "# >> DESVIO CONDICIONAL (Decisão)"
      ],
      "execution_count": null,
      "outputs": []
    },
    {
      "cell_type": "code",
      "metadata": {
        "id": "UyStERKGkV3b",
        "colab_type": "code",
        "colab": {
          "base_uri": "https://localhost:8080/",
          "height": 34
        },
        "outputId": "bd5be2a1-b375-4be5-d7d2-5fbaffb42bc7"
      },
      "source": [
        "if (10 > 2):\n",
        "  print ('EXECUTA O CÓDIGO', 'É VERDADEIRO')"
      ],
      "execution_count": 5,
      "outputs": [
        {
          "output_type": "stream",
          "text": [
            "EXECUTA O CÓDIGO É VERDADEIRO\n"
          ],
          "name": "stdout"
        }
      ]
    },
    {
      "cell_type": "code",
      "metadata": {
        "id": "yQZbktCfmVt5",
        "colab_type": "code",
        "colab": {
          "base_uri": "https://localhost:8080/",
          "height": 34
        },
        "outputId": "59b90da1-36ec-4a9e-847a-8c9a1368ea40"
      },
      "source": [
        "print (10 > 2)"
      ],
      "execution_count": 1,
      "outputs": [
        {
          "output_type": "stream",
          "text": [
            "True\n"
          ],
          "name": "stdout"
        }
      ]
    },
    {
      "cell_type": "code",
      "metadata": {
        "id": "EDM2N4AimYQb",
        "colab_type": "code",
        "colab": {
          "base_uri": "https://localhost:8080/",
          "height": 34
        },
        "outputId": "0659166b-58f6-4a8e-a17e-8d0d434f74a9"
      },
      "source": [
        "print (10 == 2)"
      ],
      "execution_count": 4,
      "outputs": [
        {
          "output_type": "stream",
          "text": [
            "False\n"
          ],
          "name": "stdout"
        }
      ]
    },
    {
      "cell_type": "code",
      "metadata": {
        "id": "gt0bksjbmht1",
        "colab_type": "code",
        "colab": {}
      },
      "source": [
        "if (10 < 2):\n",
        "  print ('Verdadeiro')"
      ],
      "execution_count": 11,
      "outputs": []
    },
    {
      "cell_type": "code",
      "metadata": {
        "id": "BAqsPzd-naiM",
        "colab_type": "code",
        "colab": {
          "base_uri": "https://localhost:8080/",
          "height": 34
        },
        "outputId": "6011c89c-5edf-4be2-e0f9-a735a5a8afe6"
      },
      "source": [
        "if (10 < 2):\n",
        "  print('O bloco de código mostra ou processa quando for TRUE')\n",
        "else:\n",
        "  print('O bloco de código mostra ou processa quando for FALSE')"
      ],
      "execution_count": 12,
      "outputs": [
        {
          "output_type": "stream",
          "text": [
            "O bloco de código mostra ou processa quando for FALSE\n"
          ],
          "name": "stdout"
        }
      ]
    }
  ]
}