{
  "nbformat": 4,
  "nbformat_minor": 0,
  "metadata": {
    "colab": {
      "name": "Untitled0.ipynb",
      "provenance": [],
      "collapsed_sections": [],
      "authorship_tag": "ABX9TyNGeUZXhqizoXSyz2cqHu9J",
      "include_colab_link": true
    },
    "kernelspec": {
      "name": "python3",
      "display_name": "Python 3"
    }
  },
  "cells": [
    {
      "cell_type": "markdown",
      "metadata": {
        "id": "view-in-github",
        "colab_type": "text"
      },
      "source": [
        "<a href=\"https://colab.research.google.com/github/gabrielssouza25/Colab/blob/master/Colab%201.01.ipynb\" target=\"_parent\"><img src=\"https://colab.research.google.com/assets/colab-badge.svg\" alt=\"Open In Colab\"/></a>"
      ]
    },
    {
      "cell_type": "code",
      "metadata": {
        "id": "Bo2KR532h7KY",
        "colab_type": "code",
        "colab": {}
      },
      "source": [
        "# A04 - ESTRUTURAS DE DECISÃO E REPETIÇÃO\n",
        "# >> DESVIO CONDICIONAL (Decisão)"
      ],
      "execution_count": null,
      "outputs": []
    },
    {
      "cell_type": "code",
      "metadata": {
        "id": "UyStERKGkV3b",
        "colab_type": "code",
        "colab": {
          "base_uri": "https://localhost:8080/",
          "height": 34
        },
        "outputId": "bd5be2a1-b375-4be5-d7d2-5fbaffb42bc7"
      },
      "source": [
        "if (10 > 2):\n",
        "  print ('EXECUTA O CÓDIGO', 'É VERDADEIRO')"
      ],
      "execution_count": 5,
      "outputs": [
        {
          "output_type": "stream",
          "text": [
            "EXECUTA O CÓDIGO É VERDADEIRO\n"
          ],
          "name": "stdout"
        }
      ]
    },
    {
      "cell_type": "code",
      "metadata": {
        "id": "yQZbktCfmVt5",
        "colab_type": "code",
        "colab": {
          "base_uri": "https://localhost:8080/",
          "height": 34
        },
        "outputId": "59b90da1-36ec-4a9e-847a-8c9a1368ea40"
      },
      "source": [
        "print (10 > 2)"
      ],
      "execution_count": 1,
      "outputs": [
        {
          "output_type": "stream",
          "text": [
            "True\n"
          ],
          "name": "stdout"
        }
      ]
    },
    {
      "cell_type": "code",
      "metadata": {
        "id": "EDM2N4AimYQb",
        "colab_type": "code",
        "colab": {
          "base_uri": "https://localhost:8080/",
          "height": 34
        },
        "outputId": "0659166b-58f6-4a8e-a17e-8d0d434f74a9"
      },
      "source": [
        "print (10 == 2)"
      ],
      "execution_count": 4,
      "outputs": [
        {
          "output_type": "stream",
          "text": [
            "False\n"
          ],
          "name": "stdout"
        }
      ]
    },
    {
      "cell_type": "code",
      "metadata": {
        "id": "gt0bksjbmht1",
        "colab_type": "code",
        "colab": {}
      },
      "source": [
        "if (10 < 2):\n",
        "  print ('Verdadeiro')"
      ],
      "execution_count": 11,
      "outputs": []
    },
    {
      "cell_type": "code",
      "metadata": {
        "id": "BAqsPzd-naiM",
        "colab_type": "code",
        "colab": {
          "base_uri": "https://localhost:8080/",
          "height": 34
        },
        "outputId": "6011c89c-5edf-4be2-e0f9-a735a5a8afe6"
      },
      "source": [
        "if (10 < 2):\n",
        "  print('O bloco de código mostra ou processa quando for TRUE')\n",
        "else:\n",
        "  print('O bloco de código mostra ou processa quando for FALSE')"
      ],
      "execution_count": 12,
      "outputs": [
        {
          "output_type": "stream",
          "text": [
            "O bloco de código mostra ou processa quando for FALSE\n"
          ],
          "name": "stdout"
        }
      ]
    },
    {
      "cell_type": "code",
      "metadata": {
        "id": "fRr3Njm9o3cZ",
        "colab_type": "code",
        "colab": {}
      },
      "source": [
        "# DECISÃO ENCADEADA"
      ],
      "execution_count": null,
      "outputs": []
    },
    {
      "cell_type": "code",
      "metadata": {
        "id": "gT6E7PzUpFYX",
        "colab_type": "code",
        "colab": {
          "base_uri": "https://localhost:8080/",
          "height": 34
        },
        "outputId": "29ac79a1-1dd7-409d-edd1-9b68ba2440bb"
      },
      "source": [
        "if (10 == 11):\n",
        "  print('10 NÃO É IGUAL A 11')\n",
        "else:\n",
        "  if (10 > 11):\n",
        "    print('10 É MAIOR QUE 11')\n",
        "  else:\n",
        "    print('10 É MENOR QUE 11')"
      ],
      "execution_count": 17,
      "outputs": [
        {
          "output_type": "stream",
          "text": [
            "10 É MENOR QUE 11\n"
          ],
          "name": "stdout"
        }
      ]
    },
    {
      "cell_type": "code",
      "metadata": {
        "id": "U8qDKoDTpk6y",
        "colab_type": "code",
        "colab": {
          "base_uri": "https://localhost:8080/",
          "height": 34
        },
        "outputId": "bafbd24a-78c8-468f-f9d7-b6f18ccde67f"
      },
      "source": [
        "x = 10\n",
        "y = 11\n",
        "z = 5\n",
        "\n",
        "if(x <= y or z < y):\n",
        "  print('Verdade')\n",
        "else:\n",
        "  print('Falso')"
      ],
      "execution_count": 18,
      "outputs": [
        {
          "output_type": "stream",
          "text": [
            "Verdade\n"
          ],
          "name": "stdout"
        }
      ]
    },
    {
      "cell_type": "code",
      "metadata": {
        "id": "Gcc9SM5pqoIh",
        "colab_type": "code",
        "colab": {
          "base_uri": "https://localhost:8080/",
          "height": 34
        },
        "outputId": "0810a13b-c4e2-4c24-d111-8e630ed2659e"
      },
      "source": [
        "# ENTÃO-SE, SE\n",
        "\n",
        "idade = 18\n",
        "if idade < 12:\n",
        "  print('Criança')\n",
        "elif idade < 18:\n",
        "  print('Adolescente')\n",
        "elif idade < 60:\n",
        "  print('Adulto')\n",
        "else:\n",
        "  print('3ª IDADE')"
      ],
      "execution_count": 19,
      "outputs": [
        {
          "output_type": "stream",
          "text": [
            "Adulto\n"
          ],
          "name": "stdout"
        }
      ]
    }
  ]
}